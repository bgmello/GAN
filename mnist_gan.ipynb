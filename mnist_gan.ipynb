{
 "cells": [
  {
   "cell_type": "code",
   "execution_count": 1,
   "metadata": {},
   "outputs": [],
   "source": [
    "import pandas as pd\n",
    "import numpy as np\n",
    "import tensorflow as tf\n",
    "import matplotlib.pyplot as plt"
   ]
  },
  {
   "cell_type": "code",
   "execution_count": 2,
   "metadata": {},
   "outputs": [],
   "source": [
    "#load the dataset\n",
    "train = pd.read_csv('mnist_train.csv')\n",
    "test = pd.read_csv('mnist_test.csv')\n",
    "df = pd.concat([train, test], axis=0)\n",
    "X = np.array(df.drop('label', axis=1))\n",
    "y = np.array(df.label)"
   ]
  },
  {
   "cell_type": "code",
   "execution_count": 8,
   "metadata": {},
   "outputs": [],
   "source": [
    "def model_inputs(input_shape, z_shape):\n",
    "    '''\n",
    "    Generates tensorflow placeholders for the inputs of the model\n",
    "    \n",
    "    Parameters:\n",
    "    input_shape (int): Size of the input array\n",
    "    z_shape (int): Size of the input array\n",
    "    \n",
    "    Returns:\n",
    "    input_real (tf.placeholder): Placeholder for the real inputs\n",
    "    input_z (tf.placeholder): Placeholder for the noise inputs\n",
    "    '''\n",
    "    input_real = tf.placeholder(tf.float32, shape=[None, input_shape], name='real_input')\n",
    "    input_z = tf.placeholder(tf.float32, shape=[None, z_shape], name='z_input')\n",
    "    return input_real, input_z"
   ]
  },
  {
   "cell_type": "code",
   "execution_count": 10,
   "metadata": {},
   "outputs": [],
   "source": [
    "def generator(z, out_shape, n_units, alpha, reuse):\n",
    "    '''\n",
    "    Creates the generator model for the GAN\n",
    "    \n",
    "    Parameters:\n",
    "    z (np.array): Noise to input in the generator\n",
    "    out_shape (int): Size of the output layer\n",
    "    n_units (int): Size of the hidden layer\n",
    "    alpha (int): Parameter for the LeakyReLU activation function\n",
    "    reuse (int): Parameter for the tf.variable_scope, whether to reuse the trainable variables\n",
    "    \n",
    "    Return:\n",
    "    output (tensor): Output of the generator model\n",
    "    '''\n",
    "    with tf.variable_scope('generator', reuse=reuse):\n",
    "        h1 = tf.layers.dense(z, units=n_units, activation=None)\n",
    "        h1 = tf.maximum(alpha*h1, h1)\n",
    "        logits = tf.layers.dense(h1, units=out_shape, activation=None)\n",
    "        output = tf.tanh(logits)\n",
    "    return output"
   ]
  },
  {
   "cell_type": "code",
   "execution_count": 11,
   "metadata": {},
   "outputs": [],
   "source": [
    "def discriminator(input_, n_units, alpha, reuse):\n",
    "    '''\n",
    "    Creates the discriminator model for the GAN\n",
    "    \n",
    "    Parameters:\n",
    "    input_ (np.array): input of the discriminator\n",
    "    n_units (int): Size of the hidden layer\n",
    "    alpha (int): Parameter for the LeakyReLU activation function\n",
    "    reuse (int): Parameter for the tf.variable_scope, whether to reuse the trainable variables\n",
    "    \n",
    "    Return:\n",
    "    output (tensor): Output of the discriminator model\n",
    "    logits (tensor): Logits of the discriminator model\n",
    "    '''\n",
    "    with tf.variable_scope('discriminator', reuse=reuse):\n",
    "        h1 = tf.layers.dense(input_, units=n_units, activation=None)\n",
    "        h1 = tf.maximum(alpha*h1, h1)\n",
    "        logits = tf.layers.dense(h1, units=1, activation=None)\n",
    "        output = tf.sigmoid(logits)\n",
    "        return output, logits"
   ]
  },
  {
   "cell_type": "code",
   "execution_count": 12,
   "metadata": {},
   "outputs": [],
   "source": [
    "#hyperparameters\n",
    "input_shape = 784\n",
    "z_shape = 100\n",
    "n_units = 128\n",
    "alpha = 0.01\n",
    "smooth = 0.1"
   ]
  },
  {
   "cell_type": "code",
   "execution_count": 13,
   "metadata": {},
   "outputs": [
    {
     "name": "stdout",
     "output_type": "stream",
     "text": [
      "WARNING:tensorflow:From <ipython-input-10-6fbab8def54f>:16: dense (from tensorflow.python.layers.core) is deprecated and will be removed in a future version.\n",
      "Instructions for updating:\n",
      "Use keras.layers.dense instead.\n",
      "WARNING:tensorflow:From /home/bgmello/anaconda3/lib/python3.7/site-packages/tensorflow/python/framework/op_def_library.py:263: colocate_with (from tensorflow.python.framework.ops) is deprecated and will be removed in a future version.\n",
      "Instructions for updating:\n",
      "Colocations handled automatically by placer.\n"
     ]
    }
   ],
   "source": [
    "#build the tensorflow graph\n",
    "tf.reset_default_graph()\n",
    "input_real, input_z = model_inputs(input_shape, z_shape)\n",
    "g_model = generator(input_z, input_shape, n_units, alpha, reuse=False)\n",
    "d_model_real, d_logits_real = discriminator(input_real, n_units, alpha, reuse=False)\n",
    "d_model_fake, d_logits_fake = discriminator(g_model, n_units, alpha, reuse=True)"
   ]
  },
  {
   "cell_type": "code",
   "execution_count": 14,
   "metadata": {},
   "outputs": [],
   "source": [
    "#calculate the cost functions\n",
    "d_loss_real = tf.reduce_mean(tf.nn.sigmoid_cross_entropy_with_logits(labels = tf.ones_like(d_logits_real)*(1-smooth),\n",
    "                                                         logits=d_logits_real))\n",
    "d_loss_fake = tf.reduce_mean(tf.nn.sigmoid_cross_entropy_with_logits(labels = tf.zeros_like(d_logits_fake), \n",
    "                                                         logits=d_logits_fake))\n",
    "d_loss = d_loss_real + d_loss_fake\n",
    "\n",
    "g_loss = tf.reduce_mean(tf.nn.sigmoid_cross_entropy_with_logits(labels = tf.ones_like(d_logits_fake),\n",
    "                                                        logits=d_logits_fake))"
   ]
  },
  {
   "cell_type": "code",
   "execution_count": 15,
   "metadata": {},
   "outputs": [],
   "source": [
    "#build the optimizers\n",
    "t_vars = tf.trainable_variables()\n",
    "g_vars = tf.trainable_variables('generator')\n",
    "d_vars = tf.trainable_variables('discriminator')\n",
    "\n",
    "g_opt = tf.train.AdamOptimizer().minimize(g_loss, var_list=g_vars)\n",
    "d_opt = tf.train.AdamOptimizer().minimize(d_loss, var_list=d_vars)"
   ]
  },
  {
   "cell_type": "code",
   "execution_count": 16,
   "metadata": {},
   "outputs": [],
   "source": [
    "def generate_batch(X, y, batch_size=32):\n",
    "    indicies = X.shape[0]\n",
    "    n_batches = indicies//batch_size\n",
    "    for ii in range(0, indicies, batch_size):\n",
    "        yield X[ii:ii+batch_size], y[ii:ii+batch_size]"
   ]
  },
  {
   "cell_type": "code",
   "execution_count": 17,
   "metadata": {},
   "outputs": [],
   "source": [
    "def normalize(X):\n",
    "    '''\n",
    "    Returns X with range between [-1,1]\n",
    "    '''\n",
    "    return 2*(X/X.max()) - 1"
   ]
  },
  {
   "cell_type": "code",
   "execution_count": 18,
   "metadata": {},
   "outputs": [],
   "source": [
    "X = normalize(X)"
   ]
  },
  {
   "cell_type": "code",
   "execution_count": 19,
   "metadata": {
    "scrolled": true
   },
   "outputs": [
    {
     "name": "stdout",
     "output_type": "stream",
     "text": [
      "Epoch 1/100... Discriminator Loss: 0.6388... Generator Loss: 4.5475\n",
      "Epoch 2/100... Discriminator Loss: 1.8479... Generator Loss: 4.1910\n",
      "Epoch 3/100... Discriminator Loss: 0.8824... Generator Loss: 4.6185\n",
      "Epoch 4/100... Discriminator Loss: 1.7051... Generator Loss: 1.4883\n",
      "Epoch 5/100... Discriminator Loss: 0.9016... Generator Loss: 2.9335\n",
      "Epoch 6/100... Discriminator Loss: 1.1630... Generator Loss: 3.0115\n",
      "Epoch 7/100... Discriminator Loss: 1.0346... Generator Loss: 2.3703\n",
      "Epoch 8/100... Discriminator Loss: 1.1131... Generator Loss: 2.3270\n",
      "Epoch 9/100... Discriminator Loss: 1.1927... Generator Loss: 1.8534\n",
      "Epoch 10/100... Discriminator Loss: 0.9273... Generator Loss: 2.1101\n",
      "Epoch 11/100... Discriminator Loss: 1.0768... Generator Loss: 1.9963\n",
      "Epoch 12/100... Discriminator Loss: 1.1960... Generator Loss: 2.0419\n",
      "Epoch 13/100... Discriminator Loss: 1.1990... Generator Loss: 1.7155\n",
      "Epoch 14/100... Discriminator Loss: 1.0303... Generator Loss: 1.6347\n",
      "Epoch 15/100... Discriminator Loss: 1.4178... Generator Loss: 1.7157\n",
      "Epoch 16/100... Discriminator Loss: 1.2138... Generator Loss: 1.3350\n",
      "Epoch 17/100... Discriminator Loss: 0.9260... Generator Loss: 1.7807\n",
      "Epoch 18/100... Discriminator Loss: 1.2928... Generator Loss: 1.5582\n",
      "Epoch 19/100... Discriminator Loss: 0.9800... Generator Loss: 1.7404\n",
      "Epoch 20/100... Discriminator Loss: 1.0711... Generator Loss: 1.9133\n",
      "Epoch 21/100... Discriminator Loss: 1.3934... Generator Loss: 1.9132\n",
      "Epoch 22/100... Discriminator Loss: 0.9800... Generator Loss: 2.1751\n",
      "Epoch 23/100... Discriminator Loss: 1.0670... Generator Loss: 1.9050\n",
      "Epoch 24/100... Discriminator Loss: 1.2268... Generator Loss: 1.5042\n",
      "Epoch 25/100... Discriminator Loss: 1.2077... Generator Loss: 1.5316\n",
      "Epoch 26/100... Discriminator Loss: 1.2533... Generator Loss: 1.7121\n",
      "Epoch 27/100... Discriminator Loss: 1.2766... Generator Loss: 1.3986\n",
      "Epoch 28/100... Discriminator Loss: 1.4685... Generator Loss: 1.6027\n",
      "Epoch 29/100... Discriminator Loss: 1.2101... Generator Loss: 1.7523\n",
      "Epoch 30/100... Discriminator Loss: 1.1376... Generator Loss: 1.7768\n",
      "Epoch 31/100... Discriminator Loss: 1.0938... Generator Loss: 1.4677\n",
      "Epoch 32/100... Discriminator Loss: 0.9780... Generator Loss: 1.7255\n",
      "Epoch 33/100... Discriminator Loss: 1.0962... Generator Loss: 2.0148\n",
      "Epoch 34/100... Discriminator Loss: 1.0921... Generator Loss: 1.8506\n",
      "Epoch 35/100... Discriminator Loss: 1.1918... Generator Loss: 1.7591\n",
      "Epoch 36/100... Discriminator Loss: 1.0791... Generator Loss: 1.3214\n",
      "Epoch 37/100... Discriminator Loss: 0.9426... Generator Loss: 1.7654\n",
      "Epoch 38/100... Discriminator Loss: 1.1351... Generator Loss: 1.4971\n",
      "Epoch 39/100... Discriminator Loss: 1.0599... Generator Loss: 1.6090\n",
      "Epoch 40/100... Discriminator Loss: 1.1652... Generator Loss: 1.8774\n",
      "Epoch 41/100... Discriminator Loss: 1.0120... Generator Loss: 1.6639\n",
      "Epoch 42/100... Discriminator Loss: 1.2450... Generator Loss: 1.5847\n",
      "Epoch 43/100... Discriminator Loss: 1.2513... Generator Loss: 1.4825\n",
      "Epoch 44/100... Discriminator Loss: 1.3254... Generator Loss: 1.3492\n",
      "Epoch 45/100... Discriminator Loss: 1.2450... Generator Loss: 1.5861\n",
      "Epoch 46/100... Discriminator Loss: 1.3076... Generator Loss: 1.4703\n",
      "Epoch 47/100... Discriminator Loss: 1.3229... Generator Loss: 1.1651\n",
      "Epoch 48/100... Discriminator Loss: 1.4953... Generator Loss: 1.4607\n",
      "Epoch 49/100... Discriminator Loss: 1.3392... Generator Loss: 1.5562\n",
      "Epoch 50/100... Discriminator Loss: 1.1978... Generator Loss: 1.5966\n",
      "Epoch 51/100... Discriminator Loss: 1.4173... Generator Loss: 1.2388\n",
      "Epoch 52/100... Discriminator Loss: 1.3123... Generator Loss: 1.4800\n",
      "Epoch 53/100... Discriminator Loss: 1.2078... Generator Loss: 1.7060\n",
      "Epoch 54/100... Discriminator Loss: 1.2337... Generator Loss: 1.3118\n",
      "Epoch 55/100... Discriminator Loss: 1.1446... Generator Loss: 1.6151\n",
      "Epoch 56/100... Discriminator Loss: 1.2907... Generator Loss: 1.3188\n",
      "Epoch 57/100... Discriminator Loss: 1.3235... Generator Loss: 1.0775\n",
      "Epoch 58/100... Discriminator Loss: 1.4233... Generator Loss: 1.1256\n",
      "Epoch 59/100... Discriminator Loss: 1.2470... Generator Loss: 1.2264\n",
      "Epoch 60/100... Discriminator Loss: 1.5477... Generator Loss: 1.3022\n",
      "Epoch 61/100... Discriminator Loss: 1.4224... Generator Loss: 1.6352\n",
      "Epoch 62/100... Discriminator Loss: 1.3613... Generator Loss: 1.2901\n",
      "Epoch 63/100... Discriminator Loss: 1.4706... Generator Loss: 1.1615\n",
      "Epoch 64/100... Discriminator Loss: 1.2701... Generator Loss: 1.5461\n",
      "Epoch 65/100... Discriminator Loss: 1.3783... Generator Loss: 1.6757\n",
      "Epoch 66/100... Discriminator Loss: 1.3426... Generator Loss: 1.4231\n",
      "Epoch 67/100... Discriminator Loss: 1.2954... Generator Loss: 1.6449\n",
      "Epoch 68/100... Discriminator Loss: 1.3811... Generator Loss: 1.3621\n",
      "Epoch 69/100... Discriminator Loss: 1.3202... Generator Loss: 1.5896\n",
      "Epoch 70/100... Discriminator Loss: 1.1751... Generator Loss: 1.4998\n",
      "Epoch 71/100... Discriminator Loss: 1.1696... Generator Loss: 1.7631\n",
      "Epoch 72/100... Discriminator Loss: 1.3175... Generator Loss: 1.3922\n",
      "Epoch 73/100... Discriminator Loss: 1.4425... Generator Loss: 1.2171\n",
      "Epoch 74/100... Discriminator Loss: 0.9505... Generator Loss: 1.5970\n",
      "Epoch 75/100... Discriminator Loss: 1.0914... Generator Loss: 1.6114\n",
      "Epoch 76/100... Discriminator Loss: 1.1405... Generator Loss: 1.5376\n",
      "Epoch 77/100... Discriminator Loss: 1.2484... Generator Loss: 1.3549\n",
      "Epoch 78/100... Discriminator Loss: 1.2441... Generator Loss: 1.3486\n",
      "Epoch 79/100... Discriminator Loss: 1.5274... Generator Loss: 1.0427\n",
      "Epoch 80/100... Discriminator Loss: 1.2644... Generator Loss: 1.6810\n",
      "Epoch 81/100... Discriminator Loss: 1.2601... Generator Loss: 1.7202\n",
      "Epoch 82/100... Discriminator Loss: 1.2021... Generator Loss: 1.4083\n",
      "Epoch 83/100... Discriminator Loss: 1.2303... Generator Loss: 1.2362\n",
      "Epoch 84/100... Discriminator Loss: 1.0863... Generator Loss: 1.7568\n",
      "Epoch 85/100... Discriminator Loss: 1.4449... Generator Loss: 1.0926\n",
      "Epoch 86/100... Discriminator Loss: 1.5691... Generator Loss: 1.4925\n",
      "Epoch 87/100... Discriminator Loss: 1.1568... Generator Loss: 1.7768\n",
      "Epoch 88/100... Discriminator Loss: 1.1067... Generator Loss: 1.3467\n",
      "Epoch 89/100... Discriminator Loss: 1.3052... Generator Loss: 1.5385\n",
      "Epoch 90/100... Discriminator Loss: 1.1375... Generator Loss: 1.6145\n",
      "Epoch 91/100... Discriminator Loss: 1.2048... Generator Loss: 1.2460\n",
      "Epoch 92/100... Discriminator Loss: 1.3722... Generator Loss: 1.3588\n",
      "Epoch 93/100... Discriminator Loss: 1.3560... Generator Loss: 1.3154\n",
      "Epoch 94/100... Discriminator Loss: 1.2082... Generator Loss: 1.3539\n",
      "Epoch 95/100... Discriminator Loss: 1.2505... Generator Loss: 1.2740\n",
      "Epoch 96/100... Discriminator Loss: 1.3408... Generator Loss: 0.9998\n",
      "Epoch 97/100... Discriminator Loss: 1.2776... Generator Loss: 1.1944\n",
      "Epoch 98/100... Discriminator Loss: 1.1992... Generator Loss: 1.6286\n",
      "Epoch 99/100... Discriminator Loss: 1.4730... Generator Loss: 1.2387\n",
      "Epoch 100/100... Discriminator Loss: 1.2722... Generator Loss: 1.2901\n"
     ]
    }
   ],
   "source": [
    "samples = {}\n",
    "epochs=100\n",
    "with tf.Session() as sess:\n",
    "    sess.run(tf.global_variables_initializer())\n",
    "    for e in range(epochs):\n",
    "        for input_, _ in generate_batch(X, y):\n",
    "            batch_z = np.random.uniform(-1,1,size=(32,z_shape))\n",
    "            _ = sess.run(d_opt, feed_dict = {input_real : input_, input_z: batch_z})\n",
    "            _ = sess.run(g_opt, feed_dict = {input_z: batch_z})\n",
    "        train_loss_d = sess.run(d_loss, feed_dict = {input_real : input_, input_z: batch_z})\n",
    "        train_loss_g = g_loss.eval({input_z: batch_z})\n",
    "        print(\"Epoch {}/{}...\".format(e+1, epochs),\n",
    "              \"Discriminator Loss: {:.4f}...\".format(train_loss_d),\n",
    "              \"Generator Loss: {:.4f}\".format(train_loss_g))\n",
    "        if e%10 == 0:\n",
    "            sample_z = np.random.uniform(-1,1, size=(1, z_shape))\n",
    "            img = sess.run(g_model, feed_dict={input_z:sample_z})\n",
    "            samples[e] = img"
   ]
  },
  {
   "cell_type": "code",
   "execution_count": 24,
   "metadata": {
    "scrolled": false
   },
   "outputs": [
    {
     "data": {
      "image/png": "[encoded data removed]",
      "text/plain": [
       "<Figure size 720x720 with 10 Axes>"
      ]
     },
     "metadata": {
      "needs_background": "light"
     },
     "output_type": "display_data"
    }
   ],
   "source": [
    "figs, axes = plt.subplots(2, 5, figsize=[10,10])\n",
    "for i in range(10):\n",
    "    axes[i%2][i//2].set_title('Epoch {}'.format(i*10))\n",
    "    axes[i%2][i//2].imshow(samples[10*i].reshape(28,28))"
   ]
  }
 ],
 "metadata": {
  "kernelspec": {
   "display_name": "Python 3",
   "language": "python",
   "name": "python3"
  },
  "language_info": {
   "codemirror_mode": {
    "name": "ipython",
    "version": 3
   },
   "file_extension": ".py",
   "mimetype": "text/x-python",
   "name": "python",
   "nbconvert_exporter": "python",
   "pygments_lexer": "ipython3",
   "version": "3.7.3"
  }
 },
 "nbformat": 4,
 "nbformat_minor": 2
}
